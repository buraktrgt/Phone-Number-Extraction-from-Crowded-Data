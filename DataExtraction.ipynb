{
 "cells": [
  {
   "cell_type": "markdown",
   "id": "7287b319-b553-494e-9e89-e6e00bb4c4ca",
   "metadata": {},
   "source": [
    "# Import the relevant libraries"
   ]
  },
  {
   "cell_type": "code",
   "execution_count": 1,
   "id": "3d5568d9-cd5d-491c-a890-88bcf6abcb3b",
   "metadata": {},
   "outputs": [],
   "source": [
    "import zipfile\n",
    "import os\n",
    "import re"
   ]
  },
  {
   "cell_type": "markdown",
   "id": "d24a8296-0b0c-47e2-aa28-f96690c3bccc",
   "metadata": {},
   "source": [
    "# I change the directory and select the path where the folder is supposed to be unzipped."
   ]
  },
  {
   "cell_type": "code",
   "execution_count": 4,
   "id": "02ff90a1-539d-4832-831a-0431db955aac",
   "metadata": {},
   "outputs": [],
   "source": [
    "file_path_to_unzip = 'C:\\\\Users\\\\Burakk\\\\Desktop\\\\Data Extraction'"
   ]
  },
  {
   "cell_type": "code",
   "execution_count": 5,
   "id": "161b1dc4-1d77-4e53-831c-c1e53216bb47",
   "metadata": {},
   "outputs": [],
   "source": [
    "os.chdir(file_path_to_unzip)"
   ]
  },
  {
   "cell_type": "code",
   "execution_count": 6,
   "id": "420378cd-d1d1-45c1-a0cd-cd41e93db8b6",
   "metadata": {},
   "outputs": [
    {
     "name": "stdout",
     "output_type": "stream",
     "text": [
      "extracted_content\n",
      "unzip_me.zip\n"
     ]
    }
   ],
   "source": [
    "for folder in os.listdir():\n",
    "    print(folder)"
   ]
  },
  {
   "cell_type": "code",
   "execution_count": 10,
   "id": "76d5542a-8ef6-4279-9834-1e22c1e1c144",
   "metadata": {},
   "outputs": [],
   "source": [
    "zip_obj = zipfile.ZipFile('unzip_me.zip','r')\n",
    "zip_obj.extractall('extracted_content')"
   ]
  },
  {
   "cell_type": "code",
   "execution_count": 12,
   "id": "a172ba6c-03b8-4409-9e22-3096a1322578",
   "metadata": {},
   "outputs": [],
   "source": [
    "os.chdir(file_path_to_unzip+'\\\\extracted_content\\\\extracted_content\\\\')"
   ]
  },
  {
   "cell_type": "markdown",
   "id": "39d864f6-33af-4cdf-8b82-181a9f6096ee",
   "metadata": {},
   "source": [
    "# Here is where the folders need to go."
   ]
  },
  {
   "cell_type": "code",
   "execution_count": 15,
   "id": "9e9beef7-938b-4ec7-987f-7dffa6fdf0fa",
   "metadata": {},
   "outputs": [
    {
     "name": "stdout",
     "output_type": "stream",
     "text": [
      "Five\n",
      "Four\n",
      "One\n",
      "Three\n",
      "Two\n"
     ]
    }
   ],
   "source": [
    "for folders in os.listdir():\n",
    "    print(folders)"
   ]
  },
  {
   "cell_type": "code",
   "execution_count": 25,
   "id": "be071129-e696-4e39-8449-80c13cd18bb4",
   "metadata": {},
   "outputs": [],
   "source": [
    "def phone_no_finder():\n",
    "    folder_list = ['One','Two','Three','Four','Five'] # Folder names inside of extracted_content folder\n",
    "    found_folders = []\n",
    "    found_files = []\n",
    "    phone_numbers = []\n",
    "    for folder in folder_list: # Perform for each folder\n",
    "        os.chdir(file_path_to_unzip+'\\\\extracted_content\\\\extracted_content\\\\'+folder)\n",
    "        for file in os.listdir(): # Perform for each files in the folder\n",
    "            with open(file,'r+') as f: # Open and read the files inside of the folder\n",
    "                content = f.read() \n",
    "                pattern = r'\\d{3}-\\d{3}-\\d{4}'\n",
    "                results = re.findall(pattern,content)\n",
    "                for phone_number in results:\n",
    "                    if phone_number != []:\n",
    "                        phone_numbers.append(phone_number)\n",
    "                        found_folders.append(folder)\n",
    "                        found_files.append(file)\n",
    "                        \n",
    "    return print(f'Found folders respectfully: {found_folders}\\nFound files respectfully: {found_files}\\nFound phone numbers respectfully: {phone_numbers}')"
   ]
  },
  {
   "cell_type": "code",
   "execution_count": 27,
   "id": "7760ee31-c683-4c2b-ba44-fc4f601af10e",
   "metadata": {},
   "outputs": [
    {
     "name": "stdout",
     "output_type": "stream",
     "text": [
      "Found folders respectfully: ['One', 'Two', 'Four']\n",
      "Found files respectfully: ['JTHSNBNPQSE.txt', 'SPDZYGDHEWO.txt', 'EMTGPSXQEJX.txt']\n",
      "Found phone numbers respectfully: ['812-733-5563', '719-237-2887', '719-266-2837']\n"
     ]
    }
   ],
   "source": [
    "phone_no_finder()"
   ]
  },
  {
   "cell_type": "markdown",
   "id": "e2ad982b-fb03-4006-af62-2120217ae675",
   "metadata": {},
   "source": [
    "# In this project, I have outlined how to find phone numbers in a specific pattern and demonstrated the file and folder names that contain phone numbers, as well as the phone numbers themselves. Thank you for your interest in my project."
   ]
  }
 ],
 "metadata": {
  "kernelspec": {
   "display_name": "Python 3 (ipykernel)",
   "language": "python",
   "name": "python3"
  },
  "language_info": {
   "codemirror_mode": {
    "name": "ipython",
    "version": 3
   },
   "file_extension": ".py",
   "mimetype": "text/x-python",
   "name": "python",
   "nbconvert_exporter": "python",
   "pygments_lexer": "ipython3",
   "version": "3.12.3"
  }
 },
 "nbformat": 4,
 "nbformat_minor": 5
}
